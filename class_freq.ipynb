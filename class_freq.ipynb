{
 "cells": [
  {
   "cell_type": "code",
   "execution_count": 116,
   "metadata": {
    "collapsed": true
   },
   "outputs": [],
   "source": [
    "import pandas as pd \n",
    "import numpy as np\n",
    "from matplotlib import pyplot as plt \n",
    "import re\n",
    "import time\n",
    "%matplotlib inline "
   ]
  },
  {
   "cell_type": "markdown",
   "metadata": {},
   "source": [
    "__Worapol B. and hamuel.me reserved some right maybe hahaha__\n",
    "\n",
    "*for muic math club and muic student that want to use this as references*\n",
    "\n",
    "# Import as DF\n",
    "\n",
    "From the data seen below we will use \"master\" section subject only and we will use the number of student in \"registered\" not actual registered because registered include both master and joint section this will eliminate duplicate section we also remove subject that does not specify the date and time "
   ]
  },
  {
   "cell_type": "code",
   "execution_count": 117,
   "metadata": {},
   "outputs": [
    {
     "data": {
      "text/html": [
       "<div>\n",
       "<table border=\"1\" class=\"dataframe\">\n",
       "  <thead>\n",
       "    <tr style=\"text-align: right;\">\n",
       "      <th></th>\n",
       "      <th>Division</th>\n",
       "      <th>Subject</th>\n",
       "      <th>Section</th>\n",
       "      <th>Type</th>\n",
       "      <th>Instructor</th>\n",
       "      <th>Capacity</th>\n",
       "      <th>Actual Registered</th>\n",
       "      <th>Registered</th>\n",
       "      <th>Seat Available</th>\n",
       "      <th>Room/Time</th>\n",
       "      <th>Final</th>\n",
       "    </tr>\n",
       "  </thead>\n",
       "  <tbody>\n",
       "    <tr>\n",
       "      <th>0</th>\n",
       "      <td>SCI</td>\n",
       "      <td>EGCI213 Programming Paradigms 4(4-0-8)</td>\n",
       "      <td>1</td>\n",
       "      <td>master</td>\n",
       "      <td>Rangsipan MARUKATAT</td>\n",
       "      <td>20</td>\n",
       "      <td>9</td>\n",
       "      <td>9</td>\n",
       "      <td>11</td>\n",
       "      <td>1408 (Tue 14:00 - 15:50)                 1408 ...</td>\n",
       "      <td>[Room-TBA]</td>\n",
       "    </tr>\n",
       "    <tr>\n",
       "      <th>1</th>\n",
       "      <td>SS</td>\n",
       "      <td>ICSO303 Modern Social Theory 4(4-0-8)</td>\n",
       "      <td>1</td>\n",
       "      <td>master</td>\n",
       "      <td>Hardina OHLENDORF</td>\n",
       "      <td>40</td>\n",
       "      <td>17</td>\n",
       "      <td>17</td>\n",
       "      <td>23</td>\n",
       "      <td>3304 (Tue 16:00 - 17:50)                 3304 ...</td>\n",
       "      <td>[Room-TBA]</td>\n",
       "    </tr>\n",
       "    <tr>\n",
       "      <th>2</th>\n",
       "      <td>BBA</td>\n",
       "      <td>ICIS370 Web Programming 4(4-0-8)</td>\n",
       "      <td>1</td>\n",
       "      <td>master</td>\n",
       "      <td>Chaivatna SUMETPHONG</td>\n",
       "      <td>40</td>\n",
       "      <td>6</td>\n",
       "      <td>6</td>\n",
       "      <td>34</td>\n",
       "      <td>1514/1 (Fri 12:00 - 13:50)                 151...</td>\n",
       "      <td>[Room-TBA]</td>\n",
       "    </tr>\n",
       "    <tr>\n",
       "      <th>3</th>\n",
       "      <td>SCI</td>\n",
       "      <td>ICBI384 Field Study on Ecology and Biodiversit...</td>\n",
       "      <td>1</td>\n",
       "      <td>master</td>\n",
       "      <td>Wayne Nicholas PHILLIPS</td>\n",
       "      <td>25</td>\n",
       "      <td>26</td>\n",
       "      <td>26</td>\n",
       "      <td>-1</td>\n",
       "      <td>NaN</td>\n",
       "      <td>[Room-TBA]</td>\n",
       "    </tr>\n",
       "    <tr>\n",
       "      <th>4</th>\n",
       "      <td>SS</td>\n",
       "      <td>ICSO260 Russia and the Soviet Union since 1825...</td>\n",
       "      <td>1</td>\n",
       "      <td>joint</td>\n",
       "      <td>Eugene JONES</td>\n",
       "      <td>10</td>\n",
       "      <td>9</td>\n",
       "      <td>9</td>\n",
       "      <td>1</td>\n",
       "      <td>1402 (Mon 12:00 - 13:50)                 1402 ...</td>\n",
       "      <td>[Room-TBA]</td>\n",
       "    </tr>\n",
       "  </tbody>\n",
       "</table>\n",
       "</div>"
      ],
      "text/plain": [
       "  Division                                            Subject  Section  \\\n",
       "0      SCI             EGCI213 Programming Paradigms 4(4-0-8)        1   \n",
       "1       SS              ICSO303 Modern Social Theory 4(4-0-8)        1   \n",
       "2      BBA                   ICIS370 Web Programming 4(4-0-8)        1   \n",
       "3      SCI  ICBI384 Field Study on Ecology and Biodiversit...        1   \n",
       "4       SS  ICSO260 Russia and the Soviet Union since 1825...        1   \n",
       "\n",
       "     Type               Instructor  Capacity  Actual Registered  Registered  \\\n",
       "0  master      Rangsipan MARUKATAT        20                  9           9   \n",
       "1  master        Hardina OHLENDORF        40                 17          17   \n",
       "2  master     Chaivatna SUMETPHONG        40                  6           6   \n",
       "3  master  Wayne Nicholas PHILLIPS        25                 26          26   \n",
       "4   joint             Eugene JONES        10                  9           9   \n",
       "\n",
       "   Seat Available                                          Room/Time  \\\n",
       "0              11  1408 (Tue 14:00 - 15:50)                 1408 ...   \n",
       "1              23  3304 (Tue 16:00 - 17:50)                 3304 ...   \n",
       "2              34  1514/1 (Fri 12:00 - 13:50)                 151...   \n",
       "3              -1                                                NaN   \n",
       "4               1  1402 (Mon 12:00 - 13:50)                 1402 ...   \n",
       "\n",
       "        Final  \n",
       "0  [Room-TBA]  \n",
       "1  [Room-TBA]  \n",
       "2  [Room-TBA]  \n",
       "3  [Room-TBA]  \n",
       "4  [Room-TBA]  "
      ]
     },
     "execution_count": 117,
     "metadata": {},
     "output_type": "execute_result"
    }
   ],
   "source": [
    "df = pd.read_csv('t2_2016.csv')\n",
    "df.head()"
   ]
  },
  {
   "cell_type": "code",
   "execution_count": 118,
   "metadata": {},
   "outputs": [
    {
     "data": {
      "text/plain": [
       "0     ([Tue, 14:00, 15:50], [Thu, 14:00, 15:50])\n",
       "1     ([Tue, 16:00, 17:50], [Thu, 16:00, 17:50])\n",
       "2     ([Fri, 12:00, 13:50], [Fri, 14:00, 15:50])\n",
       "4     ([Mon, 12:00, 13:50], [Wed, 12:00, 13:50])\n",
       "5     ([Mon, 12:00, 13:50], [Wed, 12:00, 13:50])\n",
       "7     ([Mon, 08:00, 09:50], [Mon, 10:00, 11:50])\n",
       "8     ([Tue, 10:00, 11:50], [Thu, 10:00, 11:50])\n",
       "9     ([Tue, 14:00, 15:50], [Thu, 14:00, 15:50])\n",
       "11    ([Mon, 10:00, 11:50], [Wed, 10:00, 11:50])\n",
       "12    ([Tue, 08:00, 09:50], [Thu, 08:00, 09:50])\n",
       "Name: Room/Time, dtype: object"
      ]
     },
     "execution_count": 118,
     "metadata": {},
     "output_type": "execute_result"
    }
   ],
   "source": [
    "#format [Day, start_time, end_time]\n",
    "def time_extract(s):\n",
    "    s = str(s).strip().split(\" \"*16)\n",
    "    def helper(s):\n",
    "        try:\n",
    "            temp = s.strip().split(\" \")[1:]\n",
    "            comb = temp[:2] + temp[3:]\n",
    "            comb[0] = comb[0][1:]\n",
    "            comb[2] = comb[2][:-1]\n",
    "            return comb\n",
    "        except:\n",
    "            temp = s.strip().split(\" \")\n",
    "            comb = temp[:2] + temp[3:]\n",
    "            comb[0] = comb[0][1:]\n",
    "            comb[2] = comb[2][:-1]\n",
    "            return comb\n",
    "    top = helper(s[0])\n",
    "    if len(s) > 1:\n",
    "        bottom = helper(s[1])\n",
    "        return top, bottom\n",
    "    return top\n",
    "\n",
    "# df.iloc[791]\n",
    "# time_extract(df['Room/Time'][791])\n",
    "\n",
    "tdf = df[df['Room/Time'].notnull()]['Room/Time']\n",
    "\n",
    "tdf.apply(time_extract)[:10]\n"
   ]
  },
  {
   "cell_type": "markdown",
   "metadata": {},
   "source": [
    "Here we want to generate a histogram that is in the following format \n",
    "\n",
    "`[t1 , t2, ..., tn]`\n",
    "\n",
    "Here t1 could is the time from 8 - 9 \n",
    "the following is the logic in putting the subject in the correct time freq \n",
    "we use the example of 8-10\n",
    "\n",
    "\n",
    "\n",
    "We aim to plot a histogram from Monday to Friday "
   ]
  },
  {
   "cell_type": "code",
   "execution_count": 119,
   "metadata": {},
   "outputs": [],
   "source": [
    "def normalize_time(t):\n",
    "    temp = t.split(\":\")\n",
    "    h = int(temp[0]) * 60\n",
    "    m = 60 if int(temp[1]) == 50 else 0\n",
    "    return int(h + m) \n",
    "\n"
   ]
  },
  {
   "cell_type": "markdown",
   "metadata": {},
   "source": [
    "## Histogram for Monday\n",
    "\n",
    "monday frequency of people in classes"
   ]
  },
  {
   "cell_type": "code",
   "execution_count": 127,
   "metadata": {},
   "outputs": [
    {
     "data": {
      "image/png": "[encoded data removed]",
      "text/plain": [
       "<matplotlib.figure.Figure at 0x1166ecef0>"
      ]
     },
     "metadata": {},
     "output_type": "display_data"
    }
   ],
   "source": [
    "def gen_hist(day):\n",
    "    filtered = []\n",
    "    for i,d in enumerate(tdf.apply(time_extract)):\n",
    "        if len(d) == 2:\n",
    "            for dd in d:\n",
    "                if dd[0] == day:\n",
    "                    filtered.append((i, dd))\n",
    "        else:\n",
    "            if d[0] == day:\n",
    "                filtered.append((i, d))\n",
    "    hist = []\n",
    "\n",
    "    for i, d in filtered:\n",
    "        start = normalize_time(d[1])\n",
    "        end = normalize_time(d[2])\n",
    "        cc = start \n",
    "        while cc <= end:\n",
    "            for\n",
    "            hist.append(cc/60)\n",
    "            cc += 60\n",
    "    plt.title(\"Student studying on \" + day)\n",
    "    plt.ylabel(\"Frequency\")\n",
    "    plt.xlabel(\"Time in hours\")\n",
    "    plt.hist(hist);\n",
    "\n",
    "gen_hist('Mon')"
   ]
  },
  {
   "cell_type": "markdown",
   "metadata": {},
   "source": [
    "## Histogram for Tuesday "
   ]
  },
  {
   "cell_type": "code",
   "execution_count": 128,
   "metadata": {},
   "outputs": [
    {
     "data": {
      "image/png": "[encoded data removed]",
      "text/plain": [
       "<matplotlib.figure.Figure at 0x11660ff60>"
      ]
     },
     "metadata": {},
     "output_type": "display_data"
    }
   ],
   "source": [
    "gen_hist('Tue')"
   ]
  },
  {
   "cell_type": "code",
   "execution_count": 129,
   "metadata": {},
   "outputs": [
    {
     "data": {
      "image/png": "[encoded data removed]",
      "text/plain": [
       "<matplotlib.figure.Figure at 0x1164b6f98>"
      ]
     },
     "metadata": {},
     "output_type": "display_data"
    }
   ],
   "source": [
    "gen_hist('Wed')"
   ]
  },
  {
   "cell_type": "code",
   "execution_count": 130,
   "metadata": {},
   "outputs": [
    {
     "data": {
      "image/png": "[encoded data removed]",
      "text/plain": [
       "<matplotlib.figure.Figure at 0x116df5fd0>"
      ]
     },
     "metadata": {},
     "output_type": "display_data"
    }
   ],
   "source": [
    "gen_hist('Thu')"
   ]
  },
  {
   "cell_type": "code",
   "execution_count": 131,
   "metadata": {},
   "outputs": [
    {
     "data": {
      "image/png": "[encoded data removed]",
      "text/plain": [
       "<matplotlib.figure.Figure at 0x116d28da0>"
      ]
     },
     "metadata": {},
     "output_type": "display_data"
    }
   ],
   "source": [
    "gen_hist('Fri')"
   ]
  },
  {
   "cell_type": "code",
   "execution_count": 132,
   "metadata": {},
   "outputs": [
    {
     "data": {
      "image/png": "[encoded data removed]",
      "text/plain": [
       "<matplotlib.figure.Figure at 0x115688d68>"
      ]
     },
     "metadata": {},
     "output_type": "display_data"
    }
   ],
   "source": [
    "gen_hist('Sat')"
   ]
  },
  {
   "cell_type": "code",
   "execution_count": null,
   "metadata": {
    "collapsed": true
   },
   "outputs": [],
   "source": []
  }
 ],
 "metadata": {
  "kernelspec": {
   "display_name": "Python 3",
   "language": "python",
   "name": "python3"
  },
  "language_info": {
   "codemirror_mode": {
    "name": "ipython",
    "version": 3
   },
   "file_extension": ".py",
   "mimetype": "text/x-python",
   "name": "python",
   "nbconvert_exporter": "python",
   "pygments_lexer": "ipython3",
   "version": "3.5.1"
  }
 },
 "nbformat": 4,
 "nbformat_minor": 2
}
